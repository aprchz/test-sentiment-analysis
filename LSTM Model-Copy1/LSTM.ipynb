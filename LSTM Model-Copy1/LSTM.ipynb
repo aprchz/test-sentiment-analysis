{
 "cells": [
  {
   "cell_type": "markdown",
   "id": "39bb11e6-d2dc-4d9f-a68e-73e0c07848bf",
   "metadata": {},
   "source": [
    "## Prepared"
   ]
  },
  {
   "cell_type": "code",
   "execution_count": 37,
   "id": "26f278f1-3839-4690-8475-747aa96b8fba",
   "metadata": {},
   "outputs": [],
   "source": [
    "# Import Libraries for Data Manipulation\n",
    "import pandas as pd\n",
    "import numpy as np\n",
    "from collections import defaultdict\n",
    "\n",
    "# Import Libraries for Data Visualization\n",
    "import seaborn as sns\n",
    "import matplotlib.pyplot as plt\n",
    "\n",
    "# Import Libraries for Database Handling\n",
    "import sqlite3\n",
    "import pickle\n",
    "\n",
    "# Import Libraries for TensorFlow/Keras-based Deep Learning Model Building\n",
    "import tensorflow as tf\n",
    "from tensorflow.keras.preprocessing.text import Tokenizer\n",
    "from tensorflow.keras.preprocessing.sequence import pad_sequences\n",
    "from tensorflow.keras import layers, optimizers, Sequential, backend as K\n",
    "from tensorflow.keras.preprocessing.text import tokenizer_from_json\n",
    "from tensorflow.keras.layers import Dense, Embedding, LSTM, SpatialDropout1D, SimpleRNN, Activation, Flatten\n",
    "from tensorflow.keras.callbacks import EarlyStopping, TensorBoard\n",
    "from keras.models import load_model\n",
    "from tensorflow.keras import layers\n",
    "from tensorflow.keras.models import Sequential\n",
    "from tensorflow.keras.layers import Dense, Embedding, LSTM, SpatialDropout1D, SimpleRNN, Activation\n",
    "from tensorflow.keras import optimizers\n",
    "from tensorflow.keras.callbacks import EarlyStopping, TensorBoard\n",
    "from tensorflow.keras.layers import Flatten\n",
    "from tensorflow.keras import backend as K\n",
    "from tensorflow import keras\n",
    "from tensorflow.keras import optimizers\n",
    "from tensorflow.keras.preprocessing.sequence import pad_sequences\n",
    "from tensorflow.keras.preprocessing.text import Tokenizer\n",
    "from tensorflow.keras.callbacks import EarlyStopping\n",
    "from tensorflow.keras.regularizers import l1\n",
    "from tensorflow.keras.regularizers import l2\n",
    "from tensorflow.keras.regularizers import L1L2\n",
    "\n",
    "\n",
    "# Import Libraries for Machine Learning Model Evaluation and Cross Validation\n",
    "from sklearn.model_selection import train_test_split, KFold\n",
    "from sklearn import metrics\n",
    "from sklearn.metrics import classification_report, accuracy_score\n",
    "\n",
    "# Import Regex Library for Text Preprocessing\n",
    "import re\n",
    "import io\n",
    "import json\n",
    "\n",
    "# -------------------------------------------------------------------\n",
    "# Penjelasan fungsi utama pustaka yang digunakan:\n",
    "# - `pandas`, `numpy`: Digunakan untuk manipulasi data dan komputasi numerik.\n",
    "# - `seaborn`, `matplotlib`: Untuk visualisasi data.\n",
    "# - `tensorflow.keras`, `keras`: Untuk membangun, melatih, dan mengevaluasi model deep learning.\n",
    "# - `sklearn`: Untuk evaluasi kinerja model dan pembagian data (train-test split, KFold cross validation).\n",
    "# - `re`: Untuk preprocessing data teks (misalnya, menghapus karakter tidak diinginkan).\n",
    "# - `sqlite3`, `pickle`: Untuk pengelolaan basis data dan penyimpanan model.\n",
    "# -------------------------------------------------------------------\n"
   ]
  },
  {
   "cell_type": "code",
   "execution_count": 130,
   "id": "4cee1248-a059-4402-ad9c-8ec21bc6505b",
   "metadata": {},
   "outputs": [],
   "source": [
    "## Call the Database"
   ]
  },
  {
   "cell_type": "code",
   "execution_count": 2,
   "id": "4a7c8b7d-abdb-4f71-98ae-98afd6993146",
   "metadata": {},
   "outputs": [
    {
     "data": {
      "text/html": [
       "<div>\n",
       "<style scoped>\n",
       "    .dataframe tbody tr th:only-of-type {\n",
       "        vertical-align: middle;\n",
       "    }\n",
       "\n",
       "    .dataframe tbody tr th {\n",
       "        vertical-align: top;\n",
       "    }\n",
       "\n",
       "    .dataframe thead th {\n",
       "        text-align: right;\n",
       "    }\n",
       "</style>\n",
       "<table border=\"1\" class=\"dataframe\">\n",
       "  <thead>\n",
       "    <tr style=\"text-align: right;\">\n",
       "      <th></th>\n",
       "      <th>Teks</th>\n",
       "      <th>Label</th>\n",
       "    </tr>\n",
       "  </thead>\n",
       "  <tbody>\n",
       "    <tr>\n",
       "      <th>0</th>\n",
       "      <td>warung dimiliki pengusaha pabrik tahu puluhan ...</td>\n",
       "      <td>positive</td>\n",
       "    </tr>\n",
       "    <tr>\n",
       "      <th>1</th>\n",
       "      <td>mohon ulama lurus mmbri hujjah partai diwlh su...</td>\n",
       "      <td>neutral</td>\n",
       "    </tr>\n",
       "    <tr>\n",
       "      <th>2</th>\n",
       "      <td>lokasi strategis jalan sumatra bandung nyaman ...</td>\n",
       "      <td>positive</td>\n",
       "    </tr>\n",
       "    <tr>\n",
       "      <th>3</th>\n",
       "      <td>betapa bahagia unboxing paket barang bagus men...</td>\n",
       "      <td>positive</td>\n",
       "    </tr>\n",
       "    <tr>\n",
       "      <th>4</th>\n",
       "      <td>aduh mahasiswa jangan sombong dong kasih kartu...</td>\n",
       "      <td>negative</td>\n",
       "    </tr>\n",
       "  </tbody>\n",
       "</table>\n",
       "</div>"
      ],
      "text/plain": [
       "                                                Teks     Label\n",
       "0  warung dimiliki pengusaha pabrik tahu puluhan ...  positive\n",
       "1  mohon ulama lurus mmbri hujjah partai diwlh su...   neutral\n",
       "2  lokasi strategis jalan sumatra bandung nyaman ...  positive\n",
       "3  betapa bahagia unboxing paket barang bagus men...  positive\n",
       "4  aduh mahasiswa jangan sombong dong kasih kartu...  negative"
      ]
     },
     "execution_count": 2,
     "metadata": {},
     "output_type": "execute_result"
    }
   ],
   "source": [
    "# Establish a connection to the SQLite database\n",
    "db_path = r'E:\\Sentimen\\sentimen\\data.db'\n",
    "connection = sqlite3.connect(db_path, check_same_thread=False)\n",
    "\n",
    "# Define SQL query to retrieve data from 'a_train' table\n",
    "sql_query = 'SELECT * FROM a_trainb'\n",
    "\n",
    "# Execute the query and load data into a DataFrame\n",
    "a_train_data = pd.read_sql(sql_query, connection)\n",
    "\n",
    "# Display the first few rows of the retrieved data\n",
    "a_train_data.head()\n"
   ]
  },
  {
   "cell_type": "code",
   "execution_count": 132,
   "id": "540339d2-4bbb-46b0-bd50-a35dcdb8f930",
   "metadata": {},
   "outputs": [],
   "source": [
    "# Check Yow"
   ]
  },
  {
   "cell_type": "code",
   "execution_count": 3,
   "id": "67c253f0-bc20-4946-8831-e9d67a9b9024",
   "metadata": {},
   "outputs": [
    {
     "name": "stdout",
     "output_type": "stream",
     "text": [
      "Label\n",
      "positive    6416\n",
      "negative    3436\n",
      "neutral     1148\n",
      "Name: count, dtype: int64\n",
      "Total count: 11000\n"
     ]
    }
   ],
   "source": [
    "# Menghitung jumlah kemunculan masing-masing nilai di kolom 'label'\n",
    "label_counts = a_train_data['Label'].value_counts()\n",
    "\n",
    "# Menampilkan nilai frekuensi masing-masing kategori\n",
    "print(label_counts)\n",
    "\n",
    "# Menghitung total jumlah data\n",
    "total_count = label_counts.sum()\n",
    "\n",
    "# Menampilkan total jumlah data\n",
    "print(f\"Total count: {total_count}\")"
   ]
  },
  {
   "cell_type": "markdown",
   "id": "7a4c7625-e7d0-49a9-883a-8778016eb909",
   "metadata": {},
   "source": [
    "## LETS FIX IT"
   ]
  },
  {
   "cell_type": "code",
   "execution_count": null,
   "id": "c3639239-417a-4b0b-b350-c0e56eb11e04",
   "metadata": {},
   "outputs": [],
   "source": []
  },
  {
   "cell_type": "code",
   "execution_count": 9,
   "id": "6fd1319b-0544-4526-a7a7-96e14891f32a",
   "metadata": {},
   "outputs": [],
   "source": [
    "category = pd.get_dummies(a_train_data.Label)\n",
    "atb = pd.concat([a_train_data, category], axis=1)\n",
    "atb = atb.drop(columns='Label')\n",
    "# atb di column ke label"
   ]
  },
  {
   "cell_type": "code",
   "execution_count": 7,
   "id": "2e699354-431e-4e0f-adb2-a22bd9e63e46",
   "metadata": {},
   "outputs": [],
   "source": [
    "x = atb['Teks'].values\n",
    "y = atb[['negative', 'neutral', 'positive']].values"
   ]
  },
  {
   "cell_type": "code",
   "execution_count": 11,
   "id": "8aca81d9-0e08-4065-b190-7f0c5489ff1c",
   "metadata": {},
   "outputs": [
    {
     "data": {
      "text/plain": [
       "array([[False, False,  True],\n",
       "       [False,  True, False],\n",
       "       [False, False,  True],\n",
       "       ...,\n",
       "       [False,  True, False],\n",
       "       [ True, False, False],\n",
       "       [False, False,  True]])"
      ]
     },
     "execution_count": 11,
     "metadata": {},
     "output_type": "execute_result"
    }
   ],
   "source": [
    "y"
   ]
  },
  {
   "cell_type": "code",
   "execution_count": 12,
   "id": "24302ea7-adeb-468d-bb50-7d60ad8e9cd4",
   "metadata": {},
   "outputs": [],
   "source": [
    "tokenizer = Tokenizer(num_words=5000, oov_token='x')\n",
    "tokenizer.fit_on_texts(x)\n",
    "seks_x = tokenizer.texts_to_sequences(x)\n",
    "paddeds_x = pad_sequences(seks_x) "
   ]
  },
  {
   "cell_type": "code",
   "execution_count": 14,
   "id": "af092d87-3b0f-4374-8907-3b40f7debaaa",
   "metadata": {},
   "outputs": [],
   "source": [
    "x_train, x_test, y_train, y_test = train_test_split(paddeds_x, y, test_size=0.2, random_state = 42)\n",
    "\n",
    "x_train, x_val, y_train, y_val = train_test_split(x_train, y_train, test_size=0.2, random_state = 42)"
   ]
  },
  {
   "cell_type": "code",
   "execution_count": 26,
   "id": "a42c68ef-7e65-4698-9690-4159390f3cc4",
   "metadata": {},
   "outputs": [],
   "source": [
    "model = tf.keras.Sequential([\n",
    "    tf.keras.layers.Embedding(input_dim=5000, output_dim=64),\n",
    "    \n",
    "    tf.keras.layers.LSTM(64),\n",
    "        \n",
    "    tf.keras.layers.Dense(64, kernel_regularizer=L1L2(l1=0.01, l2=0.01), activation='relu'),\n",
    "    tf.keras.layers.Dropout(0.1),\n",
    "    tf.keras.layers.BatchNormalization(),\n",
    "    \n",
    "    tf.keras.layers.Dense(64, kernel_regularizer=L1L2(l1=0, l2=0.01), activation='relu'),\n",
    "    tf.keras.layers.Dropout(0.1),\n",
    "    tf.keras.layers.BatchNormalization(),\n",
    "    \n",
    "    tf.keras.layers.Dense(64, kernel_regularizer=L1L2(l1=0, l2=0.01), activation='relu'),\n",
    "    tf.keras.layers.Dropout(0.1),\n",
    "    tf.keras.layers.BatchNormalization(),\n",
    "    \n",
    "    tf.keras.layers.Dense(64, kernel_regularizer=L1L2(l1=0, l2=0.01), activation='relu'),\n",
    "    tf.keras.layers.Dropout(0.1),\n",
    "    tf.keras.layers.BatchNormalization(),\n",
    "    \n",
    "    tf.keras.layers.Dense(64, kernel_regularizer=L1L2(l1=0, l2=0.01), activation='relu'),\n",
    "    tf.keras.layers.Dropout(0.1),\n",
    "    tf.keras.layers.BatchNormalization(),    \n",
    "    \n",
    "    tf.keras.layers.Dense(3, activation='softmax')\n",
    "])"
   ]
  },
  {
   "cell_type": "code",
   "execution_count": 28,
   "id": "1a0ba0ab-5778-4e7a-a375-b396ba9e2c67",
   "metadata": {},
   "outputs": [
    {
     "name": "stdout",
     "output_type": "stream",
     "text": [
      "Epoch 1/8\n",
      "\u001b[1m440/440\u001b[0m \u001b[32m━━━━━━━━━━━━━━━━━━━━\u001b[0m\u001b[37m\u001b[0m \u001b[1m14s\u001b[0m 17ms/step - categorical_accuracy: 0.5630 - loss: 7.4293 - val_categorical_accuracy: 0.7693 - val_loss: 3.7440\n",
      "Epoch 2/8\n",
      "\u001b[1m440/440\u001b[0m \u001b[32m━━━━━━━━━━━━━━━━━━━━\u001b[0m\u001b[37m\u001b[0m \u001b[1m7s\u001b[0m 15ms/step - categorical_accuracy: 0.7651 - loss: 2.9554 - val_categorical_accuracy: 0.7977 - val_loss: 1.6568\n",
      "Epoch 3/8\n",
      "\u001b[1m440/440\u001b[0m \u001b[32m━━━━━━━━━━━━━━━━━━━━\u001b[0m\u001b[37m\u001b[0m \u001b[1m7s\u001b[0m 17ms/step - categorical_accuracy: 0.8425 - loss: 1.3580 - val_categorical_accuracy: 0.8165 - val_loss: 0.9894\n",
      "Epoch 4/8\n",
      "\u001b[1m440/440\u001b[0m \u001b[32m━━━━━━━━━━━━━━━━━━━━\u001b[0m\u001b[37m\u001b[0m \u001b[1m7s\u001b[0m 17ms/step - categorical_accuracy: 0.8809 - loss: 0.8002 - val_categorical_accuracy: 0.8392 - val_loss: 0.7105\n",
      "Epoch 5/8\n",
      "\u001b[1m440/440\u001b[0m \u001b[32m━━━━━━━━━━━━━━━━━━━━\u001b[0m\u001b[37m\u001b[0m \u001b[1m7s\u001b[0m 17ms/step - categorical_accuracy: 0.9014 - loss: 0.5494 - val_categorical_accuracy: 0.8386 - val_loss: 0.7075\n",
      "Epoch 6/8\n",
      "\u001b[1m440/440\u001b[0m \u001b[32m━━━━━━━━━━━━━━━━━━━━\u001b[0m\u001b[37m\u001b[0m \u001b[1m7s\u001b[0m 16ms/step - categorical_accuracy: 0.9204 - loss: 0.3970 - val_categorical_accuracy: 0.8307 - val_loss: 0.6245\n",
      "Epoch 7/8\n",
      "\u001b[1m440/440\u001b[0m \u001b[32m━━━━━━━━━━━━━━━━━━━━\u001b[0m\u001b[37m\u001b[0m \u001b[1m11s\u001b[0m 17ms/step - categorical_accuracy: 0.9376 - loss: 0.3226 - val_categorical_accuracy: 0.8347 - val_loss: 0.5617\n",
      "Epoch 8/8\n",
      "\u001b[1m440/440\u001b[0m \u001b[32m━━━━━━━━━━━━━━━━━━━━\u001b[0m\u001b[37m\u001b[0m \u001b[1m7s\u001b[0m 15ms/step - categorical_accuracy: 0.9471 - loss: 0.2829 - val_categorical_accuracy: 0.8347 - val_loss: 0.6870\n",
      "Waktu yang dibutuhkan untuk pelatihan: 67.22 detik\n"
     ]
    }
   ],
   "source": [
    "import time\n",
    "\n",
    "# Mulai pengukuran waktu\n",
    "start_time = time.time()\n",
    "\n",
    "# Definisikan callback dan kompilasi model\n",
    "class myCallback(tf.keras.callbacks.Callback):\n",
    "    def on_epoch_end(self, epoch, logs={}):\n",
    "        if(logs.get('val_categorical_accuracy') > 0.85 ):\n",
    "            self.model.stop_training = True\n",
    "\n",
    "callbacks = myCallback()\n",
    "adam = optimizers.Adam(learning_rate = 0.001)\n",
    "model.compile(loss='categorical_crossentropy', optimizer=\"adam\", metrics=['categorical_accuracy'])\n",
    "\n",
    "# Melatih model\n",
    "num_epochs = 8\n",
    "fit = model.fit(x_train, \n",
    "                y_train, \n",
    "                 batch_size = 16,\n",
    "                epochs=num_epochs, \n",
    "                validation_data=(x_val, y_val),\n",
    "                 validation_split=0.2,       \n",
    "                callbacks = [callbacks]\n",
    ")\n",
    "\n",
    "# Selesai pengukuran waktu\n",
    "end_time = time.time()\n",
    "\n",
    "# Cetak waktu yang dibutuhkan\n",
    "print(\"Waktu yang dibutuhkan untuk pelatihan: {:.2f} detik\".format(end_time - start_time))\n"
   ]
  },
  {
   "cell_type": "code",
   "execution_count": 29,
   "id": "85883eca-ef19-4b93-8c47-ca9f4193be17",
   "metadata": {},
   "outputs": [
    {
     "data": {
      "image/png": "[encoded data removed]",
      "text/plain": [
       "<Figure size 1400x700 with 2 Axes>"
      ]
     },
     "metadata": {},
     "output_type": "display_data"
    }
   ],
   "source": [
    "import matplotlib.pyplot as plt\n",
    "import numpy as np\n",
    "import seaborn as sns\n",
    "\n",
    "def plot_history(fit):\n",
    "    acc = fit.history['categorical_accuracy']\n",
    "    val_acc = fit.history['val_categorical_accuracy']\n",
    "    loss = fit.history['loss']\n",
    "    val_loss = fit.history['val_loss']\n",
    "    epochs = np.array(range(1, len(acc) + 1))\n",
    "\n",
    "    plt.figure(figsize=(14, 7))\n",
    "\n",
    "    # Plot Accuracy\n",
    "    plt.subplot(1, 2, 1)\n",
    "    plt.plot(epochs, acc, color='mediumorchid', alpha=0.8, linewidth=2, marker='o', markersize=6, linestyle='-', label='Training Acc')\n",
    "    plt.plot(epochs, val_acc, color='plum', alpha=0.6, linewidth=2, marker='s', markersize=6, linestyle='--', label='Validation Acc')\n",
    "    plt.fill_between(epochs, acc, color='mediumorchid', alpha=0.2)\n",
    "    plt.fill_between(epochs, val_acc, color='plum', alpha=0.1)\n",
    "    plt.title('Training and Validation Accuracy', fontsize=16, fontweight='bold', family='sans-serif')\n",
    "    plt.xlabel('Epochs', fontsize=14)\n",
    "    plt.ylabel('Accuracy', fontsize=14)\n",
    "    plt.legend()\n",
    "    sns.despine()\n",
    "\n",
    "    # Plot Loss\n",
    "    plt.subplot(1, 2, 2)\n",
    "    plt.plot(epochs, loss, color='mediumorchid', alpha=0.8, linewidth=2, marker='o', markersize=6, linestyle='-', label='Training Loss')\n",
    "    plt.plot(epochs, val_loss, color='plum', alpha=0.6, linewidth=2, marker='s', markersize=6, linestyle='--', label='Validation Loss')\n",
    "    plt.fill_between(epochs, loss, color='mediumorchid', alpha=0.2)\n",
    "    plt.fill_between(epochs, val_loss, color='plum', alpha=0.1)\n",
    "    plt.title('Training and Validation Loss', fontsize=16, fontweight='bold', family='sans-serif')\n",
    "    plt.xlabel('Epochs', fontsize=14)\n",
    "    plt.ylabel('Loss', fontsize=14)\n",
    "    plt.legend()\n",
    "    sns.despine()\n",
    "\n",
    "    plt.tight_layout()\n",
    "    plt.show()\n",
    "\n",
    "# Memanggil fungsi plot_history untuk memvisualisasikan hasil\n",
    "plot_history(fit)\n"
   ]
  },
  {
   "cell_type": "code",
   "execution_count": 30,
   "id": "adc44fe4-83b4-401f-9993-1886f1dfe0ff",
   "metadata": {},
   "outputs": [
    {
     "name": "stdout",
     "output_type": "stream",
     "text": [
      "\u001b[1m16/16\u001b[0m \u001b[32m━━━━━━━━━━━━━━━━━━━━\u001b[0m\u001b[37m\u001b[0m \u001b[1m1s\u001b[0m 43ms/step - categorical_accuracy: 0.9681 - loss: 0.1880\n",
      "\u001b[1m16/16\u001b[0m \u001b[32m━━━━━━━━━━━━━━━━━━━━\u001b[0m\u001b[37m\u001b[0m \u001b[1m0s\u001b[0m 17ms/step - categorical_accuracy: 0.8394 - loss: 0.6993\n",
      "\u001b[1m16/16\u001b[0m \u001b[32m━━━━━━━━━━━━━━━━━━━━\u001b[0m\u001b[37m\u001b[0m \u001b[1m0s\u001b[0m 21ms/step - categorical_accuracy: 0.8247 - loss: 0.7206\n",
      "\n",
      "Train: 0.969, val: 0.835, test: 0.817,\n"
     ]
    }
   ],
   "source": [
    "train_loss, train_acc = model.evaluate(x_train, y_train, steps=16)\n",
    "val_loss, val_acc = model.evaluate(x_val, y_val, steps=16)\n",
    "test_loss, test_acc = model.evaluate(x_test, y_test, steps=16)\n",
    "\n",
    "print('\\nTrain: %.3f, val: %.3f, test: %.3f,' % (train_acc, val_acc, test_acc))"
   ]
  },
  {
   "cell_type": "code",
   "execution_count": 32,
   "id": "32ce103d-01c0-4dc3-a280-8b58caa40ff6",
   "metadata": {},
   "outputs": [],
   "source": [
    "filename = 'lstmbackup.keras'\n",
    "model.save(filename)"
   ]
  },
  {
   "cell_type": "code",
   "execution_count": 35,
   "id": "781252a9-0865-4ea7-84e7-dc611241d92f",
   "metadata": {},
   "outputs": [],
   "source": [
    "tokenizer_json = tokenizer.to_json()\n",
    "with io.open('tokenizer_lstm.json', 'w', encoding='utf-8') as f:\n",
    "    f.write(json.dumps(tokenizer_json, ensure_ascii=False))"
   ]
  },
  {
   "cell_type": "code",
   "execution_count": 44,
   "id": "dcd0251e-0d2e-436d-b9c8-6e4228f70589",
   "metadata": {},
   "outputs": [
    {
     "name": "stderr",
     "output_type": "stream",
     "text": [
      "WARNING:absl:Compiled the loaded model, but the compiled metrics have yet to be built. `model.compile_metrics` will be empty until you train or evaluate the model.\n"
     ]
    }
   ],
   "source": [
    "from tensorflow.keras.models import load_model\n",
    "\n",
    "with open('tokenizer_lstm.json') as f:\n",
    "    data = json.load(f)\n",
    "    tokenizer = tokenizer_from_json(data)\n",
    "loaded_model = load_model(r'lstm.h5')"
   ]
  },
  {
   "cell_type": "code",
   "execution_count": 62,
   "id": "d7e16ac3-2cbb-4002-ab1c-c13ec7c2a8ea",
   "metadata": {},
   "outputs": [
    {
     "name": "stderr",
     "output_type": "stream",
     "text": [
      "WARNING:absl:Compiled the loaded model, but the compiled metrics have yet to be built. `model.compile_metrics` will be empty until you train or evaluate the model.\n"
     ]
    },
    {
     "name": "stdout",
     "output_type": "stream",
     "text": [
      "Teks Asli: idih si embul durjana\n",
      "Teks Setelah Cleaning: idih sih embul durjana\n",
      "\u001b[1m1/1\u001b[0m \u001b[32m━━━━━━━━━━━━━━━━━━━━\u001b[0m\u001b[37m\u001b[0m \u001b[1m0s\u001b[0m 302ms/step\n",
      "Prediksi Sentimen: Negatif\n"
     ]
    },
    {
     "data": {
      "text/plain": [
       "'Negatif'"
      ]
     },
     "execution_count": 62,
     "metadata": {},
     "output_type": "execute_result"
    }
   ],
   "source": [
    "import re\n",
    "import pandas as pd\n",
    "import sqlite3\n",
    "import json\n",
    "from tensorflow.keras.preprocessing.sequence import pad_sequences\n",
    "from tensorflow.keras.preprocessing.text import tokenizer_from_json\n",
    "from tensorflow.keras.models import load_model\n",
    "\n",
    "# Menghubungkan ke database SQLite\n",
    "db_path = r'E:\\Sentimen\\sentimen\\data.db'\n",
    "connection = sqlite3.connect(db_path)\n",
    "\n",
    "# Fungsi membersihkan teks\n",
    "def clean_text(text):\n",
    "    text = re.sub(r'((www\\.[^\\s]+)|(https?://[^\\s]+)|(http?://[^\\s]+))', '', text)  # Hapus URL dan tautan\n",
    "    text = re.sub(r'pic.twitter.com\\.\\w+', '', text)\n",
    "    text = re.sub(r'[^a-z\\s]', ' ', text.lower())  # Hapus karakter yang tidak diinginkan, termasuk angka\n",
    "    text = text.replace('user', '')  # Hapus kata 'user'\n",
    "    text = re.sub(' +', ' ', text)  # Hapus spasi berlebih\n",
    "    text = text.replace('\\n', ' ')  # Hapus karakter \\n (newline)\n",
    "    return text.strip()\n",
    "\n",
    "# Fungsi standarisasi teks (ganti teks alay dengan baku)\n",
    "def standardize_text(text):\n",
    "    alay_df = pd.read_sql_query('SELECT * FROM kamus_alay', connection)\n",
    "    alay_dict = dict(zip(alay_df['alay'], alay_df['fix']))  # Buat kamus dari teks alay ke baku\n",
    "    words = text.split()\n",
    "    standardized_words = [alay_dict.get(word, word) for word in words]  # Ganti teks alay dengan baku\n",
    "    return ' '.join(standardized_words).strip()\n",
    "\n",
    "# Fungsi hapus stopwords\n",
    "def remove_stopwords(text):\n",
    "    stopword_query = 'SELECT * FROM stopword'\n",
    "    stopword_df = pd.read_sql_query(stopword_query, connection)\n",
    "    stopwords = set(stopword_df['stop'])\n",
    "    words = text.split()\n",
    "    filtered_words = [word for word in words if word not in stopwords]\n",
    "    return ' '.join(filtered_words)\n",
    "\n",
    "# Fungsi untuk melakukan preprocessing teks input dan mengembalikan teks asli dan yang sudah dibersihkan\n",
    "def preprocess_input(text):\n",
    "    original_text = text  # Simpan teks asli\n",
    "    text = clean_text(text)\n",
    "    text = standardize_text(text)\n",
    "    # Jika ingin menghapus stopwords, uncomment ini\n",
    "    # text = remove_stopwords(text)\n",
    "    cleaned_text = text  # Simpan teks yang telah dibersihkan\n",
    "    return original_text, cleaned_text\n",
    "\n",
    "# Fungsi prediksi\n",
    "def pred_sentiment(text, model, tokenizer):\n",
    "    # Preprocessing teks\n",
    "    original_text, cleaned_text = preprocess_input(text)\n",
    "    \n",
    "    # Tampilkan teks asli dan hasil cleaning\n",
    "    print(f\"Teks Asli: {original_text}\")\n",
    "    print(f\"Teks Setelah Cleaning: {cleaned_text}\")\n",
    "    \n",
    "    # Mengubah teks menjadi sequences dan melakukan padding\n",
    "    sequences = tokenizer.texts_to_sequences([cleaned_text])\n",
    "    padded_sequences = pad_sequences(sequences, maxlen=100)  # Sesuaikan maxlen dengan model\n",
    "\n",
    "    # Melakukan prediksi\n",
    "    predictions = model.predict(padded_sequences)\n",
    "\n",
    "    return predictions[0]\n",
    "\n",
    "# Fungsi untuk menampilkan hasil prediksi\n",
    "def pred(predictions):\n",
    "    labels = ['Negatif', 'Netral', 'Positif']\n",
    "    predicted_label = labels[predictions.argmax()]\n",
    "    print(f\"Prediksi Sentimen: {predicted_label}\")\n",
    "    return predicted_label\n",
    "\n",
    "# Muat model dan tokenizer\n",
    "with open('tokenizer_lstm.json') as f:\n",
    "    data = json.load(f)\n",
    "    tokenizer = tokenizer_from_json(data)\n",
    "\n",
    "loaded_model = load_model(r'lstm.h5')\n",
    "\n",
    "# Contoh teks input\n",
    "input_text = \"idih si embul durjana\"\n",
    "\n",
    "# Lakukan prediksi\n",
    "predictions = pred_sentiment(input_text, loaded_model, tokenizer)\n",
    "\n",
    "# Tampilkan hasil prediksi\n",
    "pred(predictions)\n"
   ]
  },
  {
   "cell_type": "code",
   "execution_count": null,
   "id": "0030423b-f550-4724-8aeb-279ff31d061c",
   "metadata": {},
   "outputs": [],
   "source": []
  }
 ],
 "metadata": {
  "kernelspec": {
   "display_name": "venv_sentimen",
   "language": "python",
   "name": "venv_sentimen"
  },
  "language_info": {
   "codemirror_mode": {
    "name": "ipython",
    "version": 3
   },
   "file_extension": ".py",
   "mimetype": "text/x-python",
   "name": "python",
   "nbconvert_exporter": "python",
   "pygments_lexer": "ipython3",
   "version": "3.12.4"
  }
 },
 "nbformat": 4,
 "nbformat_minor": 5
}
